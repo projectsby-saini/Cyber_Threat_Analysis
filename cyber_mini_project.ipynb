{
  "nbformat": 4,
  "nbformat_minor": 0,
  "metadata": {
    "colab": {
      "provenance": [],
      "authorship_tag": "ABX9TyOtXT04toBDWy8gnna1GTr2",
      "include_colab_link": true
    },
    "kernelspec": {
      "name": "python3",
      "display_name": "Python 3"
    },
    "language_info": {
      "name": "python"
    }
  },
  "cells": [
    {
      "cell_type": "markdown",
      "metadata": {
        "id": "view-in-github",
        "colab_type": "text"
      },
      "source": [
        "<a href=\"https://colab.research.google.com/github/projectsby-saini/Cyber_Threat_Analysis/blob/main/cyber_mini_project.ipynb\" target=\"_parent\"><img src=\"https://colab.research.google.com/assets/colab-badge.svg\" alt=\"Open In Colab\"/></a>"
      ]
    },
    {
      "cell_type": "markdown",
      "source": [
        "***Cyber Threat Analysis and Mitigation***"
      ],
      "metadata": {
        "id": "0FUyjvwQXfmu"
      }
    },
    {
      "cell_type": "code",
      "execution_count": null,
      "metadata": {
        "id": "k3GISButLrFP"
      },
      "outputs": [],
      "source": [
        "import pandas as pd\n",
        "import numpy as np\n",
        "import matplotlib.pyplot as plt\n",
        "import seaborn as sns\n",
        "from sklearn.model_selection import train_test_split\n",
        "from sklearn.preprocessing import StandardScaler\n",
        "from sklearn.metrics import accuracy_score, classification_report, confusion_matrix, roc_curve, auc\n",
        "import tensorflow as tf\n",
        "from tensorflow.keras.models import Sequential\n",
        "from tensorflow.keras.layers import LSTM, Dense, Dropout"
      ]
    },
    {
      "cell_type": "code",
      "source": [
        "from google.colab import drive"
      ],
      "metadata": {
        "id": "ut7EnmshWIzd"
      },
      "execution_count": null,
      "outputs": []
    },
    {
      "cell_type": "code",
      "source": [
        "drive.mount('/content/drive')"
      ],
      "metadata": {
        "id": "0jAVj_2HWLl8"
      },
      "execution_count": null,
      "outputs": []
    },
    {
      "cell_type": "code",
      "source": [
        "data_path = ('/content/drive/MyDrive/CyberThreat/wustl_hdrl_2024.csv')\n",
        "data = pd.read_csv(data_path, low_memory=False)\n",
        "print(data.iloc[:, 4].unique())"
      ],
      "metadata": {
        "id": "GOj4x_IGWM9e"
      },
      "execution_count": null,
      "outputs": []
    },
    {
      "cell_type": "code",
      "source": [
        "data.shape"
      ],
      "metadata": {
        "id": "MCzI4kQiWODn"
      },
      "execution_count": null,
      "outputs": []
    },
    {
      "cell_type": "code",
      "source": [
        "data.size"
      ],
      "metadata": {
        "id": "T6pjEQJkWOAO"
      },
      "execution_count": null,
      "outputs": []
    },
    {
      "cell_type": "code",
      "source": [
        "data.replace('   ->', np.nan, inplace=True)"
      ],
      "metadata": {
        "id": "xjN-DRRiWN-G"
      },
      "execution_count": null,
      "outputs": []
    },
    {
      "cell_type": "code",
      "source": [
        "data.dropna(inplace=True)"
      ],
      "metadata": {
        "id": "RNxNYA63WN7Z"
      },
      "execution_count": null,
      "outputs": []
    },
    {
      "cell_type": "code",
      "source": [
        "data = pd.get_dummies(data, drop_first=True)"
      ],
      "metadata": {
        "id": "CMB5TG_bWN4k"
      },
      "execution_count": null,
      "outputs": []
    },
    {
      "cell_type": "code",
      "source": [
        "if 'Label' not in data.columns:\n",
        "    raise KeyError(\"The column 'Label' is not present in the DataFrame.\")"
      ],
      "metadata": {
        "id": "NMunBYXZWN3D"
      },
      "execution_count": null,
      "outputs": []
    },
    {
      "cell_type": "code",
      "source": [
        "X = data.drop('Label', axis=1)\n",
        "y = data['Label']"
      ],
      "metadata": {
        "id": "TwGVea50WN1a"
      },
      "execution_count": null,
      "outputs": []
    },
    {
      "cell_type": "code",
      "source": [
        "print(\"First few rows of X:\")\n",
        "print(X.head())\n",
        "print(\"First few values of y:\")\n",
        "print(y.head())"
      ],
      "metadata": {
        "id": "uYZ9s7-dWNzg"
      },
      "execution_count": null,
      "outputs": []
    },
    {
      "cell_type": "code",
      "source": [
        "if not isinstance(X, (pd.DataFrame, np.ndarray)):\n",
        "    X = np.array(X)"
      ],
      "metadata": {
        "id": "o4GDoc4eWNyK"
      },
      "execution_count": null,
      "outputs": []
    },
    {
      "cell_type": "code",
      "source": [
        "print(\"Type of X:\", type(X))\n",
        "print(\"Shape of X before expanding dimensions:\", X.shape)\n",
        "print(\"Dimensions of X before expanding dimensions:\", X.ndim)"
      ],
      "metadata": {
        "id": "zH1najr9WNwV"
      },
      "execution_count": null,
      "outputs": []
    },
    {
      "cell_type": "code",
      "source": [
        "if X.ndim == 2:\n",
        "    X = np.expand_dims(X, axis=2)\n",
        "    print(\"Expanded X along axis 2\")\n",
        "elif X.ndim == 1:\n",
        "    X = np.expand_dims(X, axis=1)\n",
        "    print(\"Expanded X along axis 1\")\n",
        "else:\n",
        "    print(\"Unexpected number of dimensions in X:\", X.ndim)"
      ],
      "metadata": {
        "id": "jSNpti5PWNuJ"
      },
      "execution_count": null,
      "outputs": []
    },
    {
      "cell_type": "code",
      "source": [
        "print(\"Shape of X after expanding dimensions:\", X.shape)"
      ],
      "metadata": {
        "id": "yro1ameuWNmz"
      },
      "execution_count": null,
      "outputs": []
    },
    {
      "cell_type": "code",
      "source": [
        "X_train, X_test, y_train, y_test = train_test_split(X, y, test_size=0.3, random_state=42)"
      ],
      "metadata": {
        "id": "q6DkKmevWNdK"
      },
      "execution_count": null,
      "outputs": []
    },
    {
      "cell_type": "code",
      "source": [
        "print(\"Distribution of labels in y_train:\")\n",
        "print(y_train.value_counts())\n",
        "print(\"Distribution of labels in y_test:\")\n",
        "print(y_test.value_counts())"
      ],
      "metadata": {
        "id": "jmIuLeT0Wi3U"
      },
      "execution_count": null,
      "outputs": []
    },
    {
      "cell_type": "code",
      "source": [
        "scaler = StandardScaler()"
      ],
      "metadata": {
        "id": "7E7NTsjzWkcu"
      },
      "execution_count": null,
      "outputs": []
    },
    {
      "cell_type": "code",
      "source": [
        "X_train = scaler.fit_transform(X_train.reshape(-1, X_train.shape[-1])).reshape(X_train.shape)"
      ],
      "metadata": {
        "id": "HArRAS4wWmN4"
      },
      "execution_count": null,
      "outputs": []
    },
    {
      "cell_type": "code",
      "source": [
        "X_test = scaler.transform(X_test.reshape(-1, X_test.shape[-1])).reshape(X_test.shape)"
      ],
      "metadata": {
        "id": "b3q25SEYWnyn"
      },
      "execution_count": null,
      "outputs": []
    },
    {
      "cell_type": "code",
      "source": [
        "model = Sequential()"
      ],
      "metadata": {
        "id": "2-cle_FhWpKJ"
      },
      "execution_count": null,
      "outputs": []
    },
    {
      "cell_type": "code",
      "source": [
        "model.add(LSTM(100, input_shape=(X_train.shape[1], X_train.shape[2]), return_sequences=True))\n",
        "model.add(Dropout(0.2))\n",
        "model.add(LSTM(50, return_sequences=False))\n",
        "model.add(Dropout(0.2))\n",
        "model.add(Dense(1, activation='sigmoid'))"
      ],
      "metadata": {
        "id": "UD6wdzooWqVq"
      },
      "execution_count": null,
      "outputs": []
    },
    {
      "cell_type": "code",
      "source": [
        "model.compile(optimizer='adam', loss='binary_crossentropy', metrics=['accuracy'])"
      ],
      "metadata": {
        "id": "LR1x6ebnWs0U"
      },
      "execution_count": null,
      "outputs": []
    },
    {
      "cell_type": "code",
      "source": [
        "try:\n",
        "    history = model.fit(X_train, y_train, epochs=50, batch_size=64, validation_split=0.2, verbose=1)\n",
        "except Exception as e:\n",
        "    print(f\"Error during model training: {e}\")"
      ],
      "metadata": {
        "id": "VPCkALqxWuSH"
      },
      "execution_count": null,
      "outputs": []
    },
    {
      "cell_type": "code",
      "source": [
        "try:\n",
        "    y_pred_prob = model.predict(X_test)\n",
        "    y_pred = (y_pred_prob > 0.5).astype(\"int32\")\n",
        "\n",
        "    accuracy = accuracy_score(y_test, y_pred)\n",
        "    print(f'Accuracy: {accuracy:.4f}')\n",
        "    print(classification_report(y_test, y_pred))\n",
        "\n",
        "    conf_matrix = confusion_matrix(y_test, y_pred)\n",
        "    sns.heatmap(conf_matrix, annot=True, fmt='d', cmap='Blues', xticklabels=['0', '1'], yticklabels=['0', '1'])\n",
        "    plt.xlabel('Predicted')\n",
        "    plt.ylabel('Actual')\n",
        "    plt.title('Confusion Matrix')\n",
        "    plt.show()\n",
        "\n",
        "    # Plot training & validation accuracy and loss values\n",
        "    plt.figure(figsize=(12, 4))\n",
        "    plt.subplot(1, 2, 1)\n",
        "    plt.plot(history.history['accuracy'], label='Train')\n",
        "    plt.plot(history.history['val_accuracy'], label='Validation')\n",
        "    plt.title('Model Accuracy')\n",
        "    plt.xlabel('Epoch')\n",
        "    plt.ylabel('Accuracy')\n",
        "    plt.legend()\n",
        "\n",
        "    plt.subplot(1, 2, 2)\n",
        "    plt.plot(history.history['loss'], label='Train')\n",
        "    plt.plot(history.history['val_loss'], label='Validation')\n",
        "    plt.title('Model Loss')\n",
        "    plt.xlabel('Epoch')\n",
        "    plt.ylabel('Loss')\n",
        "    plt.legend()\n",
        "\n",
        "    plt.show()\n",
        "\n",
        "    # ROC Curve and AUC\n",
        "    fpr, tpr, _ = roc_curve(y_test, y_pred_prob)\n",
        "    roc_auc = auc(fpr, tpr)\n",
        "\n",
        "    plt.figure()\n",
        "    plt.plot(fpr, tpr, color='darkorange', lw=2, label=f'ROC curve (area = {roc_auc:.2f})')\n",
        "    plt.plot([0, 1], [0, 1], color='navy', lw=2, linestyle='--')\n",
        "    plt.xlim([0.0, 1.0])\n",
        "    plt.ylim([0.0, 1.05])\n",
        "    plt.xlabel('False Positive Rate')\n",
        "    plt.ylabel('True Positive Rate')\n",
        "    plt.title('Receiver Operating Characteristic')\n",
        "    plt.legend(loc='lower right')\n",
        "    plt.show()\n",
        "\n",
        "    # Predicted vs. Actual values\n",
        "    plt.figure()\n",
        "    plt.scatter(y_test, y_pred_prob, alpha=0.3)\n",
        "    plt.plot([0, 1], [0, 1], color='red', linestyle='--')\n",
        "    plt.xlabel('Actual')\n",
        "    plt.ylabel('Predicted')\n",
        "    plt.title('Predicted vs. Actual Values')\n",
        "    plt.show()\n",
        "except Exception as e:\n",
        "    print(f\"Error during model evaluation: {e}\")"
      ],
      "metadata": {
        "id": "L_8kbEGGWwBT"
      },
      "execution_count": null,
      "outputs": []
    }
  ]
}